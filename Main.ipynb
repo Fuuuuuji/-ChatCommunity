{
 "cells": [
  {
   "metadata": {},
   "cell_type": "markdown",
   "source": "# Environment",
   "id": "6b2f24c15af74e4a"
  },
  {
   "metadata": {
    "ExecuteTime": {
     "end_time": "2024-07-06T19:07:38.157598Z",
     "start_time": "2024-07-06T19:07:36.739997Z"
    }
   },
   "cell_type": "code",
   "source": [
    "#%pip install chromadb\n",
    "#%pip install unstructured\n",
    "#%pip install markdown\n",
    "#%pip install qdrant-client\n",
    "#%pip install panel\n",
    "#%pip install param"
   ],
   "id": "616e2d37a2744413",
   "outputs": [
    {
     "name": "stdout",
     "output_type": "stream",
     "text": [
      "Defaulting to user installation because normal site-packages is not writeable\r\n",
      "Requirement already satisfied: param in /Users/zhaofujian/Library/Python/3.9/lib/python/site-packages (2.1.1)\r\n",
      "\r\n",
      "\u001B[1m[\u001B[0m\u001B[34;49mnotice\u001B[0m\u001B[1;39;49m]\u001B[0m\u001B[39;49m A new release of pip is available: \u001B[0m\u001B[31;49m24.0\u001B[0m\u001B[39;49m -> \u001B[0m\u001B[32;49m24.1.1\u001B[0m\r\n",
      "\u001B[1m[\u001B[0m\u001B[34;49mnotice\u001B[0m\u001B[1;39;49m]\u001B[0m\u001B[39;49m To update, run: \u001B[0m\u001B[32;49m/Applications/Xcode.app/Contents/Developer/usr/bin/python3 -m pip install --upgrade pip\u001B[0m\r\n",
      "Note: you may need to restart the kernel to use updated packages.\n"
     ]
    }
   ],
   "execution_count": 26
  },
  {
   "metadata": {
    "ExecuteTime": {
     "end_time": "2024-07-08T11:50:11.319743Z",
     "start_time": "2024-07-08T11:50:11.313048Z"
    }
   },
   "cell_type": "code",
   "source": [
    "from langchain_community.document_loaders import UnstructuredMarkdownLoader\n",
    "from langchain_community.vectorstores import Chroma\n",
    "from langchain_community.document_loaders.csv_loader import CSVLoader\n",
    "from langchain_text_splitters import MarkdownHeaderTextSplitter\n",
    "from langchain.docstore.document import Document\n",
    "from langchain.embeddings.openai import OpenAIEmbeddings\n",
    "from langchain.chains import RetrievalQA,  ConversationalRetrievalChain\n",
    "import os\n",
    "from typing import List, Dict, Any\n",
    "from langchain.embeddings import OpenAIEmbeddings\n",
    "from langchain.vectorstores import Chroma\n",
    "from langchain.schema import Document"
   ],
   "id": "17b22ae548252464",
   "outputs": [],
   "execution_count": 122
  },
  {
   "cell_type": "code",
   "id": "initial_id",
   "metadata": {
    "collapsed": true,
    "ExecuteTime": {
     "end_time": "2024-07-08T12:55:30.755450Z",
     "start_time": "2024-07-08T12:55:30.749334Z"
    }
   },
   "source": [
    "import os\n",
    "from dotenv import load_dotenv\n",
    "def reset_and_load_env(config_file='config.env'):\n",
    "    # 清空相关的环境变量\n",
    "    keys_to_clear = [\n",
    "        \"OPENAI_API_KEY\",\n",
    "        \"LANGCHAIN_API_KEY\",\n",
    "        \"TAVILY_API_KEY\",\n",
    "        \"LANGCHAIN_ENDPOINT\"\n",
    "        # 添加其他您可能使用的相关环境变量\n",
    "    ]\n",
    "\n",
    "    for key in keys_to_clear:\n",
    "        if key in os.environ:\n",
    "            del os.environ[key]\n",
    "            print(f\"已清空环境变量: {key}\")\n",
    "\n",
    "    # 加载新的配置\n",
    "    if os.path.exists(config_file):\n",
    "        load_dotenv(config_file, override=True)\n",
    "        print(f\"已从 {config_file} 加载新的配置\")\n",
    "    else:\n",
    "        print(f\"错误：配置文件 {config_file} 不存在\")\n",
    "\n",
    "    # 打印新的环境变量（仅打印前几个字符，确保安全）\n",
    "    for key in keys_to_clear:\n",
    "        value = os.environ.get(key)\n",
    "        if value:\n",
    "            print(f\"{key}: {value[:]}\")\n",
    "        else:\n",
    "            print(f\"{key}: 未设置\")\n",
    "\n",
    "if __name__ == \"__main__\":\n",
    "    reset_and_load_env()  "
   ],
   "outputs": [
    {
     "name": "stdout",
     "output_type": "stream",
     "text": [
      "已清空环境变量: OPENAI_API_KEY\n",
      "已清空环境变量: LANGCHAIN_API_KEY\n",
      "已清空环境变量: TAVILY_API_KEY\n",
      "已清空环境变量: LANGCHAIN_ENDPOINT\n",
      "已从 config.env 加载新的配置\n",
      "OPENAI_API_KEY: sk-proj-GjHiaWUpTPZIT9LCT1CAT3BlbkFJlAEefEYvKvxVURedDw9q\n",
      "LANGCHAIN_API_KEY: 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\n",
      "TAVILY_API_KEY: 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\n",
      "LANGCHAIN_ENDPOINT: https://api.smith.langchain.com\n"
     ]
    }
   ],
   "execution_count": 196
  },
  {
   "metadata": {},
   "cell_type": "markdown",
   "source": "# Vectorstore",
   "id": "a0c95ba81c9eb6f2"
  },
  {
   "metadata": {
    "ExecuteTime": {
     "end_time": "2024-07-08T12:55:33.901230Z",
     "start_time": "2024-07-08T12:55:33.898107Z"
    }
   },
   "cell_type": "code",
   "source": [
    "import os\n",
    "from markdown import markdown\n",
    "from langchain.embeddings import OpenAIEmbeddings\n",
    "from langchain.document_loaders import UnstructuredMarkdownLoader, CSVLoader\n",
    "from langchain.text_splitter import MarkdownHeaderTextSplitter\n",
    "from langchain.vectorstores import Chroma\n",
    "from langchain.schema import Document\n"
   ],
   "id": "c4b07784e51c2eab",
   "outputs": [],
   "execution_count": 197
  },
  {
   "metadata": {
    "ExecuteTime": {
     "end_time": "2024-07-08T12:55:35.876667Z",
     "start_time": "2024-07-08T12:55:35.859361Z"
    }
   },
   "cell_type": "code",
   "source": [
    "def setup_paths():\n",
    "    current_dir = os.getcwd()\n",
    "    rawdata_dir = os.path.join(current_dir, \"rawdata\")\n",
    "    markdowns_dir = os.path.join(rawdata_dir, \"markdowns\")\n",
    "    csv_projects_path = os.path.join(rawdata_dir, \"csvs\", \"projects\", \"projects.csv\")\n",
    "    csv_cases_path = os.path.join(rawdata_dir, \"csvs\", \"cases\", \"cases.csv\")\n",
    "    return markdowns_dir, csv_projects_path, csv_cases_path\n",
    "\n",
    "embd = OpenAIEmbeddings()\n",
    "markdowns_dir, csv_projects_path, csv_cases_path = setup_paths()\n"
   ],
   "id": "e1161dac387b6679",
   "outputs": [],
   "execution_count": 198
  },
  {
   "metadata": {
    "ExecuteTime": {
     "end_time": "2024-07-08T13:07:40.509615Z",
     "start_time": "2024-07-08T13:07:40.429980Z"
    }
   },
   "cell_type": "code",
   "source": [
    "def load_markdown_files(markdown_dir, markdowns):\n",
    "    docs_list = []\n",
    "    for markdown in markdowns:\n",
    "        try:\n",
    "            markdown_path = os.path.join(markdown_dir, markdown)\n",
    "            docs = UnstructuredMarkdownLoader(markdown_path).load()\n",
    "            docs_list.extend(docs)\n",
    "        except FileNotFoundError:\n",
    "            print(f\"File not found: {markdown_path}\")\n",
    "        except Exception as e:\n",
    "            print(f\"Error loading {markdown_path}: {str(e)}\")\n",
    "    print(f\"Loaded {len(docs_list)} documents.\")\n",
    "    return docs_list\n",
    "\n",
    "def load_csv_file(csv_path, fieldnames):\n",
    "    try:\n",
    "        loader = CSVLoader(file_path=csv_path, csv_args={\n",
    "            'delimiter': ',',\n",
    "            'quotechar': '\"',\n",
    "            'fieldnames': fieldnames\n",
    "        })\n",
    "        return loader.load()\n",
    "    except FileNotFoundError:\n",
    "        print(f\"File not found: {csv_path}\")\n",
    "    except Exception as e:\n",
    "        print(f\"Error loading {csv_path}: {str(e)}\")\n",
    "\n",
    "markdowns = [\n",
    "    \"definition.md\",\n",
    "    \"constructing-life-circle.md\",\n",
    "    \"content-configuration.md\",\n",
    "    \"spatial-layout.md\",\n",
    "    \"detailed-design.md\",\n",
    "    \"action-guidelines.md\"\n",
    "]\n",
    "docs_list = load_markdown_files(markdowns_dir, markdowns)\n",
    "projects_doc = load_csv_file(csv_projects_path, ['ID', 'Project Name', 'Project Category', 'Current Stage', 'Renewal Method', 'Project Scale', 'Configuration Form', 'Budget', 'Content Summary', 'Design Team', 'Partners', 'Person in Charge'])\n",
    "cases_doc = load_csv_file(csv_cases_path, ['ID', 'Project Name', 'Project Address', 'Project Category', 'Renewal Method', 'Project Scale', 'Configuration Form', 'Content Summary', 'Project Link', 'Design Team'])\n"
   ],
   "id": "ffd1edb377951551",
   "outputs": [
    {
     "name": "stdout",
     "output_type": "stream",
     "text": [
      "Loaded 6 documents.\n"
     ]
    }
   ],
   "execution_count": 247
  },
  {
   "metadata": {
    "ExecuteTime": {
     "end_time": "2024-07-08T13:07:41.951009Z",
     "start_time": "2024-07-08T13:07:41.944645Z"
    }
   },
   "cell_type": "code",
   "source": [
    "def split_markdown_docs(docs_list):\n",
    "    headers_to_split_on = [\n",
    "        (\"#\", \"Header 1\"),\n",
    "        (\"##\", \"Header 2\"),\n",
    "        (\"###\", \"Header 3\"),\n",
    "    ]\n",
    "    markdown_splitter = MarkdownHeaderTextSplitter(headers_to_split_on=headers_to_split_on)\n",
    "    \n",
    "    doc_splits = []\n",
    "    for doc in docs_list:\n",
    "        split_docs = markdown_splitter.split_text(doc.page_content)\n",
    "        for i, split_doc in enumerate(split_docs):\n",
    "            if isinstance(split_doc, Document):\n",
    "                doc_splits.append(Document(page_content=split_doc.page_content, metadata={\"source\": doc.metadata.get(\"source\", \"\"), \"chunk\": i}))\n",
    "            else:\n",
    "                print(f\"Skipping split_doc of type: {type(split_doc)}\")\n",
    "    return doc_splits\n",
    "\n",
    "doc_splits = split_markdown_docs(docs_list)\n"
   ],
   "id": "3bd53a834f65da7e",
   "outputs": [],
   "execution_count": 248
  },
  {
   "metadata": {
    "ExecuteTime": {
     "end_time": "2024-07-08T13:07:52.073267Z",
     "start_time": "2024-07-08T13:07:49.863591Z"
    }
   },
   "cell_type": "code",
   "source": [
    "def create_vectorstore(docs, collection_name, storage_dir, embd):\n",
    "    try:\n",
    "        vectorstore = Chroma.from_documents(\n",
    "            documents=docs,\n",
    "            collection_name=collection_name,\n",
    "            embedding=embd,\n",
    "            persist_directory=os.path.join(storage_dir, collection_name)\n",
    "        )\n",
    "        vectorstore.persist()\n",
    "        return vectorstore.as_retriever()\n",
    "    except Exception as e:\n",
    "        print(f\"Error creating vectorstore for {collection_name}: {str(e)}\")\n",
    "\n",
    "storage_dir = os.path.join(os.getcwd(), \"chroma_vector_stores\")\n",
    "if not os.path.exists(storage_dir):\n",
    "    os.makedirs(storage_dir)\n",
    "\n",
    "retriever1 = create_vectorstore(doc_splits, \"rag-markdowns\", storage_dir, embd)\n",
    "retriever2 = create_vectorstore(projects_doc, \"rag-projects\", storage_dir, embd)\n",
    "retriever3 = create_vectorstore(cases_doc, \"rag-cases\", storage_dir, embd)\n",
    "print(\"Vector stores created and persisted in:\", storage_dir)\n"
   ],
   "id": "c0dcf180920a4400",
   "outputs": [
    {
     "name": "stdout",
     "output_type": "stream",
     "text": [
      "Vector stores created and persisted in: /Users/zhaofujian/Documents/项目/ChatCommunity/chroma_vector_stores\n"
     ]
    }
   ],
   "execution_count": 249
  },
  {
   "metadata": {},
   "cell_type": "markdown",
   "source": "# ChatCommunity",
   "id": "b5da7ed071b26a36"
  },
  {
   "metadata": {},
   "cell_type": "markdown",
   "source": "## LLMs",
   "id": "7e98dcd34f07019c"
  },
  {
   "metadata": {
    "ExecuteTime": {
     "end_time": "2024-07-08T13:33:46.191784Z",
     "start_time": "2024-07-08T13:33:46.189106Z"
    }
   },
   "cell_type": "code",
   "source": [
    "from typing import Literal\n",
    "from langchain_core.pydantic_v1 import BaseModel, Field\n",
    "from langchain_openai import ChatOpenAI\n",
    "from langchain_core.output_parsers import StrOutputParser\n",
    "from langchain.prompts import PromptTemplate"
   ],
   "id": "25e28b90e85ad4bf",
   "outputs": [],
   "execution_count": 340
  },
  {
   "metadata": {},
   "cell_type": "markdown",
   "source": "### Router",
   "id": "dee12ca748cf84a8"
  },
  {
   "metadata": {
    "ExecuteTime": {
     "end_time": "2024-07-08T13:33:47.490559Z",
     "start_time": "2024-07-08T13:33:47.477995Z"
    }
   },
   "cell_type": "code",
   "source": [
    "# Structure LLM output\n",
    "class Action(BaseModel):\n",
    "    \"\"\"Determine whether to search for more information or to analyze the recent projects/topic.\"\"\"\n",
    "\n",
    "    action: Literal[\"guideline\", \"projects\", \"cases\", \"web_search\", \"swot\", \"summary\", \"default\"] = Field(\n",
    "        description=\"Determine the kind of the next action to perform based on chat content and user input, the output should be one of:'guideline', 'projects', 'cases', 'web_search' or 'swot', 'summary', 'default'\",\n",
    "    )\n",
    "\n",
    "\n",
    "# LLM with function call\n",
    "llm = ChatOpenAI(model=\"gpt-3.5-turbo-0125\", temperature=0)\n",
    "structured_llm_action = llm.with_structured_output(Action)\n",
    "\n",
    "# Prompt\n",
    "prompt_action = \"\"\"Determine the kind of the next action to perform based on chat history and user input.\\n \n",
    "    1.If the user wants some information/guidance about 15min life circle, return 'guideline'. \\n\n",
    "    2.If the user wants to know more about existing projects in the community, return 'projects'.\\n\n",
    "    3.If the user wants some community cases to learn, return 'cases'.\\n\n",
    "    4.If the user wants to know something else, return 'web_search'.\\n\n",
    "    5.If the user wants to go deeper on the projects/cases, like rating, evaluating, advising, etc, return 'swot'\\n\n",
    "    6.If the user wants to make a summary of the chat context, return 'summary'.\\n\n",
    "    7.If you can't figure out what the next action is, return 'default'.\\n\\n\n",
    "User question:{question}\\n\n",
    "Current conversation:{history}\\n\n",
    "Answer:\n",
    "    \"\"\"\n",
    "action_prompt = PromptTemplate(\n",
    "    input_variables=[\"question\", \"history\"],\n",
    "    template=prompt_action,\n",
    ")\n",
    "\n",
    "action_router = action_prompt | structured_llm_action "
   ],
   "id": "224c32e38b17d7ca",
   "outputs": [],
   "execution_count": 341
  },
  {
   "metadata": {
    "ExecuteTime": {
     "end_time": "2024-07-08T13:33:51.322144Z",
     "start_time": "2024-07-08T13:33:50.343374Z"
    }
   },
   "cell_type": "code",
   "source": [
    "action_router.invoke({\n",
    "        \"question\": \"how are you today?\",\n",
    "        \"history\": \"The user name is Fuji\"\n",
    "    })"
   ],
   "id": "8a0f0947de545961",
   "outputs": [
    {
     "data": {
      "text/plain": [
       "Action(action='default')"
      ]
     },
     "execution_count": 342,
     "metadata": {},
     "output_type": "execute_result"
    }
   ],
   "execution_count": 342
  },
  {
   "metadata": {},
   "cell_type": "markdown",
   "source": "### Memory",
   "id": "f4af7d89b437a17f"
  },
  {
   "metadata": {
    "ExecuteTime": {
     "end_time": "2024-07-08T15:33:42.305977Z",
     "start_time": "2024-07-08T15:33:42.303139Z"
    }
   },
   "cell_type": "code",
   "source": [
    "from langchain.memory import ConversationBufferMemory\n",
    "memory = ConversationBufferMemory(\n",
    "    memory_key=\"history\",\n",
    "    return_messages=True\n",
    ")\n",
    "config = {\"configurable\": {\"thread_id\": \"1\"}}"
   ],
   "id": "bf295f1dfdda6e10",
   "outputs": [],
   "execution_count": 423
  },
  {
   "metadata": {},
   "cell_type": "markdown",
   "source": "### Actions",
   "id": "b087bf8248d9b987"
  },
  {
   "metadata": {},
   "cell_type": "markdown",
   "source": "#### Search",
   "id": "dce8e701b4aabacc"
  },
  {
   "metadata": {
    "ExecuteTime": {
     "end_time": "2024-07-08T15:29:21.550546Z",
     "start_time": "2024-07-08T15:29:21.534562Z"
    }
   },
   "cell_type": "code",
   "source": [
    "# LLM\n",
    "llm = ChatOpenAI(model_name=\"gpt-3.5-turbo-0125\", temperature=0)\n",
    "\n",
    "# Updated Prompt_guideline\n",
    "prompt_generate = \"\"\"You are a community planner. generate a specific and comprehensive answer with documents infos meeting user's requirements.\\n\\n\n",
    "User question:{question}\\n\n",
    "Current conversation:{history}\\n\n",
    "Documents:{documents}\\n\n",
    "Answer:\n",
    "\"\"\"\n",
    "prompt = PromptTemplate(\n",
    "    input_variables=[\"question\", \"documents\", \"history\"],\n",
    "    template=prompt_generate,\n",
    ")\n",
    "# Chain\n",
    "rag_chain = prompt | llm | StrOutputParser()\n",
    "\n",
    "prompt_web = \"\"\"You are a community planner for web-related questions, generate a comprehensive answer with web infos meeting user's requirements.\\n\\n\n",
    "User question:{question}\\n\n",
    "Current conversation:{history}\\n\n",
    "Documents:{documents}\\n\n",
    "Answer:\n",
    "\"\"\"\n",
    "prompt2 = PromptTemplate(\n",
    "    input_variables=[\"question\", \"documents\", \"history\"],\n",
    "    template=prompt_web,\n",
    ")\n",
    "# Chain\n",
    "rag_chain4 = prompt2 | llm | StrOutputParser()"
   ],
   "id": "8b734251449b226b",
   "outputs": [],
   "execution_count": 407
  },
  {
   "metadata": {
    "ExecuteTime": {
     "end_time": "2024-07-08T15:29:23.390983Z",
     "start_time": "2024-07-08T15:29:23.388052Z"
    }
   },
   "cell_type": "code",
   "source": [
    "# Websearch\n",
    "from langchain_community.tools.tavily_search import TavilySearchResults\n",
    "web_search_tool = TavilySearchResults(k=3)"
   ],
   "id": "a93f31afc9952b8b",
   "outputs": [],
   "execution_count": 408
  },
  {
   "metadata": {},
   "cell_type": "markdown",
   "source": "#### SWOT",
   "id": "de35b4c13769a7ca"
  },
  {
   "metadata": {
    "ExecuteTime": {
     "end_time": "2024-07-08T15:29:25.903221Z",
     "start_time": "2024-07-08T15:29:25.900083Z"
    }
   },
   "cell_type": "code",
   "source": [
    "# SWOT Prompt\n",
    "prompt_sw = \"\"\"You are a professional community planner who helps the user to go deeper on the projects/cases using SWOT method.\\n\\n\n",
    "Based on the user's question and the chat history, perform the following tasks:\\n\n",
    "1. Identify the specific project or case that the user is interested in analyzing.\\n\n",
    "2. Develop a comprehensive SWOT analysis for this project/case.\\n\n",
    "3. List out the S(Strengths), W(Weaknesses), O(Opportunities), T(Threats) of the identified project or case. Ensure your analysis is specific and considers all available information from the chat history.\\n\n",
    "4. After presenting your initial analysis, ask if the user wants to focus on any specific aspect or if they have any feedback.\\n\n",
    "5. Be prepared to refine or expand your analysis based on the user's response.\\n\\n\n",
    "Remember to make your analysis as relevant and actionable as possible, considering the specific context of the community planning project or case discussed in the conversation history.\\n\\n\n",
    "User Question: {question}\\n\n",
    "Chat History: {history}\\n\n",
    "Analysis:\n",
    "\"\"\"\n",
    "\n",
    "prompt_swot = PromptTemplate(\n",
    "    input_variables=[\"question\", \"history\"],\n",
    "    template=prompt_sw,\n",
    ")\n",
    "\n",
    "swot_helper = prompt_swot | llm | StrOutputParser()"
   ],
   "id": "c40aead1baadb329",
   "outputs": [],
   "execution_count": 409
  },
  {
   "metadata": {},
   "cell_type": "markdown",
   "source": "#### Default",
   "id": "433b5e76c0c1a5d1"
  },
  {
   "metadata": {
    "ExecuteTime": {
     "end_time": "2024-07-08T15:29:28.296093Z",
     "start_time": "2024-07-08T15:29:28.292099Z"
    }
   },
   "cell_type": "code",
   "source": [
    "# Prompt\n",
    "prompt_de = \"\"\"Role:\\n\n",
    "Your name is Tan Tan, female, 25 years old. You are a community planner for Pingliang Road Community. Your main task is to assist community users in understanding, analyzing, and evaluating community projects, and to help guide community users to deepen their development ideas and transform them into valuable action plan proposals.\\n\\n\n",
    "Task:\\n\n",
    "Please answer the user's question based on the provided chat history and the current question. Ensure your response is relevant to the ongoing conversation and consistent with previous interactions.\\n\\n\n",
    "Chat History:{history}\\n\\n\n",
    "Current Question:{question}\\n\\n\n",
    "Answer:\n",
    "\"\"\"\n",
    "prompt_default = PromptTemplate(\n",
    "    input_variables=[\"question\", \"history\"],\n",
    "    template=prompt_de,\n",
    ")\n",
    "default_helper = prompt_default | llm | StrOutputParser()"
   ],
   "id": "d6c0324763ad16fa",
   "outputs": [],
   "execution_count": 410
  },
  {
   "metadata": {},
   "cell_type": "markdown",
   "source": "#### Summary",
   "id": "8fe4116eca77fb8b"
  },
  {
   "metadata": {
    "ExecuteTime": {
     "end_time": "2024-07-08T15:29:31.122468Z",
     "start_time": "2024-07-08T15:29:31.106653Z"
    }
   },
   "cell_type": "code",
   "source": [
    "from langchain.prompts import PromptTemplate\n",
    "from langchain.output_parsers import PydanticOutputParser\n",
    "from pydantic import BaseModel, Field\n",
    "from typing import List, Dict, Optional\n",
    "\n",
    "# 定义输出结构\n",
    "class SWOTAnalysis(BaseModel):\n",
    "    strength: List[str] = Field(description=\"List of strengths\")\n",
    "    weakness: List[str] = Field(description=\"List of weaknesses\")\n",
    "    opportunities: List[str] = Field(description=\"List of opportunities\")\n",
    "    threats: List[str] = Field(description=\"List of threats\")\n",
    "\n",
    "class ProjectOrCase(BaseModel):\n",
    "    id: str = Field(description=\"Project or Case ID\")\n",
    "    rate: int = Field(description=\"Rating from 1 to 5\")\n",
    "    swot: SWOTAnalysis\n",
    "    advices: List[str] = Field(description=\"List of advices\")\n",
    "\n",
    "class Summary(BaseModel):\n",
    "    config: Dict = Field(default={}, description=\"Configuration information\")\n",
    "    projects: List[ProjectOrCase] = Field(default=[], description=\"List of projects\")\n",
    "    cases: List[ProjectOrCase] = Field(default=[], description=\"List of cases\")\n",
    "    others: Dict = Field(default={}, description=\"Other information\")\n",
    "\n",
    "# 创建输出解析器\n",
    "parser = PydanticOutputParser(pydantic_object=Summary)\n",
    "\n",
    "# 创建提示模板\n",
    "summary_prompt = PromptTemplate(\n",
    "    template=\"\"\"You are an AI assistant tasked with summarizing community planning discussions. Based on the given question and chat history, create a structured summary following the specified format.\\n\\n\n",
    "Please provide a summary in the following JSON structure:{format_instructions}\\n\\n\n",
    "Ensure that you:\\n\n",
    "1. Identify all projects and cases discussed.\\n\n",
    "2. Provide ratings (1-5) based on the sentiment in the discussion.\\n\n",
    "3. Summarize SWOT analyses for each project/case.\\n\n",
    "4. List any advice or recommendations given by user.\\n\n",
    "5. Include any other relevant information in the 'others' field.\\n\\n\n",
    "Question: {question}\\n\n",
    "Chat History:{history}\\n\n",
    "Summary:\"\"\",\n",
    "    input_variables=[\"question\", \"history\"],\n",
    "    partial_variables={\"format_instructions\": parser.get_format_instructions()}\n",
    ")"
   ],
   "id": "e9996182062f65cf",
   "outputs": [],
   "execution_count": 411
  },
  {
   "metadata": {},
   "cell_type": "markdown",
   "source": "## Graph",
   "id": "a2515fefa657a6c"
  },
  {
   "metadata": {},
   "cell_type": "markdown",
   "source": "### Graph State",
   "id": "c7a3a09af2ae8e75"
  },
  {
   "metadata": {
    "ExecuteTime": {
     "end_time": "2024-07-08T15:29:32.868046Z",
     "start_time": "2024-07-08T15:29:32.865243Z"
    }
   },
   "cell_type": "code",
   "source": [
    "from typing import List\n",
    "from typing_extensions import TypedDict\n",
    "class GraphState(TypedDict):\n",
    "    \"\"\"\n",
    "    Represents the state of our graph.\n",
    "    Attributes:\n",
    "        question: question\n",
    "        generation: LLM generation\n",
    "        documents: list of documents/chat contents\n",
    "    \"\"\"\n",
    "\n",
    "    question: str\n",
    "    generation: str\n",
    "    documents: List[str]"
   ],
   "id": "8258bbd7c57b2e93",
   "outputs": [],
   "execution_count": 412
  },
  {
   "metadata": {},
   "cell_type": "markdown",
   "source": "### Graph Flow",
   "id": "1ae63fa55ac3fe41"
  },
  {
   "metadata": {
    "ExecuteTime": {
     "end_time": "2024-07-08T15:34:10.067581Z",
     "start_time": "2024-07-08T15:34:10.061535Z"
    }
   },
   "cell_type": "code",
   "source": [
    "def generate(state):\n",
    "    question = state[\"question\"]\n",
    "    history = memory.load_memory_variables({})[\"history\"]\n",
    "    docs = state[\"documents\"]\n",
    "    \n",
    "    # 使用rag_chain\n",
    "    generation = rag_chain.invoke({\n",
    "        \"question\": question,\n",
    "        \"documents\": docs,\n",
    "        \"history\": history\n",
    "    }, config)\n",
    "    \n",
    "    return {\"documents\": docs, \"question\": question, \"generation\": generation}\n",
    "\n",
    "def generate_web_search(state):\n",
    "    question = state[\"question\"]\n",
    "    history = memory.load_memory_variables({})[\"history\"]\n",
    "    \n",
    "    # 使用web_search_tool进行搜索\n",
    "    search_results = web_search_tool.invoke({\"query\": question}, config)\n",
    "    documents = \"\\n\\n\".join([result[\"content\"] for result in search_results])\n",
    "    \n",
    "    # 使用rag_chain4\n",
    "    generation = rag_chain4.invoke({\n",
    "        \"question\": question,\n",
    "        \"documents\": documents,\n",
    "        \"history\": history\n",
    "    }, config)\n",
    "    \n",
    "    return {\"question\": question, \"generation\": generation}\n",
    "\n",
    "def generate_default(state):\n",
    "    question = state[\"question\"]\n",
    "    history = memory.load_memory_variables({})[\"history\"]\n",
    "    \n",
    "    # 使用default_helper\n",
    "    generation = default_helper.invoke({\n",
    "        \"question\": question,\n",
    "        \"history\": history\n",
    "    }, config)\n",
    "    \n",
    "    return {\"question\": question, \"generation\": generation}\n",
    "\n"
   ],
   "id": "fc714db8a50beec5",
   "outputs": [],
   "execution_count": 424
  },
  {
   "metadata": {
    "ExecuteTime": {
     "end_time": "2024-07-08T15:34:11.440937Z",
     "start_time": "2024-07-08T15:34:11.437955Z"
    }
   },
   "cell_type": "code",
   "source": [
    "def generate_swot(state):\n",
    "    question = state[\"question\"]\n",
    "    history = memory.load_memory_variables({})[\"history\"]\n",
    "    \n",
    "    # 使用swot_helper\n",
    "    generation = swot_helper.invoke({\n",
    "        \"question\": question,\n",
    "        \"history\": history\n",
    "    }, config)\n",
    "    \n",
    "    return {\"question\": question, \"generation\": generation}\n"
   ],
   "id": "f8308b0d1b7c7557",
   "outputs": [],
   "execution_count": 425
  },
  {
   "metadata": {
    "ExecuteTime": {
     "end_time": "2024-07-08T15:34:14.040479Z",
     "start_time": "2024-07-08T15:34:14.035909Z"
    }
   },
   "cell_type": "code",
   "source": [
    "import json\n",
    "def generate_summary(state):\n",
    "    question = state[\"question\"]\n",
    "    history = memory.load_memory_variables({})[\"history\"]\n",
    "    # 使用LLM生成总结\n",
    "    summary_chain = summary_prompt | llm | parser\n",
    "    summary_output = summary_chain.invoke({\n",
    "        \"question\": question,\n",
    "        \"history\": history\n",
    "    })\n",
    "    \n",
    "    # 将输出转换为JSON字符串\n",
    "    summary_json = json.dumps(summary_output.dict(), ensure_ascii=False, indent=2)\n",
    "    \n",
    "    return {\n",
    "        \"question\": question,\n",
    "        \"generation\": summary_json\n",
    "    }"
   ],
   "id": "dd7feb12c58af978",
   "outputs": [],
   "execution_count": 426
  },
  {
   "metadata": {
    "ExecuteTime": {
     "end_time": "2024-07-08T15:34:16.033346Z",
     "start_time": "2024-07-08T15:34:16.029674Z"
    }
   },
   "cell_type": "code",
   "source": [
    "def action_question(state):\n",
    "    question = state[\"question\"]\n",
    "    history = memory.load_memory_variables({})[\"history\"]\n",
    "    action = action_router.invoke({\n",
    "        \"question\": question,\n",
    "        \"history\": history\n",
    "    }, config)\n",
    "    print(f\"--->ROUTE QUESTION TO {action.action.upper()}\")\n",
    "    return action.action"
   ],
   "id": "1ee9f0a74f7e9d0c",
   "outputs": [],
   "execution_count": 427
  },
  {
   "metadata": {
    "ExecuteTime": {
     "end_time": "2024-07-08T15:34:17.873779Z",
     "start_time": "2024-07-08T15:34:16.555762Z"
    }
   },
   "cell_type": "code",
   "source": [
    "state = {\n",
    "        \"question\": \"Summary\",\n",
    "        \"history\": \"The project id is 1\"\n",
    "    }\n",
    "\n",
    "generate_summary(state)"
   ],
   "id": "b6300583940d0e98",
   "outputs": [
    {
     "data": {
      "text/plain": [
       "{'question': 'Summary',\n",
       " 'generation': '{\\n  \"config\": {},\\n  \"projects\": [],\\n  \"cases\": [],\\n  \"others\": {}\\n}'}"
      ]
     },
     "execution_count": 428,
     "metadata": {},
     "output_type": "execute_result"
    }
   ],
   "execution_count": 428
  },
  {
   "metadata": {
    "ExecuteTime": {
     "end_time": "2024-07-08T15:34:20.606456Z",
     "start_time": "2024-07-08T15:34:20.602701Z"
    }
   },
   "cell_type": "code",
   "source": [
    "def retrieve_documents(state):\n",
    "    print(\"--->RETRIEVE DOCUMENTS\")\n",
    "    question = state['question']\n",
    "    collection = action_question(state)\n",
    "    if collection in []:\n",
    "        retrievers = {\n",
    "            'guideline': retriever1,\n",
    "            'projects': retriever2,\n",
    "            'cases': retriever3\n",
    "        }\n",
    "        docs = retrievers[collection].get_relevant_documents(question)\n",
    "        return {\"documents\": docs, \"question\": question}\n"
   ],
   "id": "e1d6925caf749f80",
   "outputs": [],
   "execution_count": 429
  },
  {
   "metadata": {
    "ExecuteTime": {
     "end_time": "2024-07-08T15:27:27.476200Z",
     "start_time": "2024-07-08T15:27:26.847246Z"
    }
   },
   "cell_type": "code",
   "source": "retrieve_documents(state)",
   "id": "d0b7bb86077ccb79",
   "outputs": [
    {
     "name": "stdout",
     "output_type": "stream",
     "text": [
      "--->RETRIEVE DOCUMENTS\n",
      "--->ROUTE QUESTION TO SUMMARY\n"
     ]
    }
   ],
   "execution_count": 402
  },
  {
   "metadata": {},
   "cell_type": "markdown",
   "source": "### Build Graph",
   "id": "5b3ea28afc76001"
  },
  {
   "metadata": {
    "ExecuteTime": {
     "end_time": "2024-07-08T15:43:21.430925Z",
     "start_time": "2024-07-08T15:43:21.424772Z"
    }
   },
   "cell_type": "code",
   "source": [
    "from langgraph.graph import END, StateGraph, START\n",
    "\n",
    "# 创建graph\n",
    "workflow = StateGraph(GraphState)\n",
    "\n",
    "# 定义节点\n",
    "workflow.add_node(\"retrieve_documents\", retrieve_documents)\n",
    "workflow.add_node(\"generate\", generate)\n",
    "workflow.add_node(\"generate_default\", generate_default)\n",
    "workflow.add_node(\"generate_web_search\", generate_web_search)\n",
    "workflow.add_node(\"generate_swot\", generate_swot)\n",
    "workflow.add_node(\"generate_summary\", generate_summary)\n",
    "\n",
    "\n",
    "# 添加条件边\n",
    "\n",
    "workflow.add_conditional_edges(\n",
    "    START,\n",
    "    action_question,\n",
    "    {\n",
    "        \"guideline\": \"retrieve_documents\",\n",
    "        \"projects\": \"retrieve_documents\",\n",
    "        \"cases\": \"retrieve_documents\",\n",
    "        \"web_search\": \"generate_web_search\",\n",
    "        \"swot\": \"generate_swot\",\n",
    "        \"summary\": \"generate_summary\",\n",
    "        \"default\": \"generate_default\",\n",
    "    }\n",
    ")\n",
    "\n",
    "workflow.add_edge(\"retrieve_documents\", \"generate\")\n",
    "\n",
    "# 将所有生成节点连接到END\n",
    "for node in [\"generate\", \"generate_default\", \"generate_web_search\", \"generate_swot\", \"generate_summary\"]:\n",
    "    workflow.add_edge(node, END)\n",
    "    \n",
    "# 编译graph\n",
    "app = workflow.compile()"
   ],
   "id": "6cbb5de1a3aebe2a",
   "outputs": [],
   "execution_count": 431
  },
  {
   "metadata": {
    "ExecuteTime": {
     "end_time": "2024-07-08T15:43:23.414854Z",
     "start_time": "2024-07-08T15:43:23.265910Z"
    }
   },
   "cell_type": "code",
   "source": [
    "from IPython.display import display, Image\n",
    "try:\n",
    "    display(Image(app.get_graph().draw_mermaid_png()))\n",
    "except Exception:\n",
    "    print(\"Failed to draw mermaid image\")"
   ],
   "id": "5e86175964c65ef6",
   "outputs": [
    {
     "data": {
      "image/jpeg": "[encoded data removed]",
      "text/plain": [
       "<IPython.core.display.Image object>"
      ]
     },
     "metadata": {},
     "output_type": "display_data"
    }
   ],
   "execution_count": 432
  },
  {
   "metadata": {},
   "cell_type": "markdown",
   "source": "## Test",
   "id": "cd067f53d4bfaf69"
  },
  {
   "metadata": {
    "ExecuteTime": {
     "end_time": "2024-07-08T15:43:48.945093Z",
     "start_time": "2024-07-08T15:43:45.402943Z"
    }
   },
   "cell_type": "code",
   "source": [
    "def test_system(question):\n",
    "    print(f\"测试问题: {question}\")\n",
    "    print(\"-\" * 50)\n",
    "    \n",
    "    inputs = {\"question\": question}\n",
    "    \n",
    "    try:\n",
    "        for output in app.stream(inputs, config):\n",
    "            for key, value in output.items():\n",
    "                print(f\"Node '{key}':\")\n",
    "                if isinstance(value, dict):\n",
    "                    for k, v in value.items():\n",
    "                        print(f\"  {k}: {v}\")\n",
    "                else:\n",
    "                    print(f\"  {value}\")\n",
    "            print(\"-\" * 50)\n",
    "        \n",
    "        print(\"测试成功完成\")\n",
    "    except Exception as e:\n",
    "        print(f\"测试过程中发生错误: {str(e)}\")\n",
    "        import traceback\n",
    "        traceback.print_exc()\n",
    "    \n",
    "    print(\"\\n\" + \"=\" * 50 + \"\\n\")\n",
    "\n",
    "# 运行测试\n",
    "test_system(\"我们讨论了什么？\")"
   ],
   "id": "926ee3f4c2725b3b",
   "outputs": [
    {
     "name": "stdout",
     "output_type": "stream",
     "text": [
      "测试问题: 我们讨论了什么？\n",
      "--------------------------------------------------\n",
      "--->ROUTE QUESTION TO DEFAULT\n",
      "Node 'generate_default':\n",
      "  question: 我们讨论了什么？\n",
      "  generation: 我们讨论了社区项目的发展计划，以及如何帮助社区用户理解、分析和评估这些计划。您可以通过深入了解社区的发展想法，并将其转化为有价值的行动计划提案来帮助社区用户。如果您有任何进一步的问题或想要讨论的话题，请随时告诉我。\n",
      "--------------------------------------------------\n",
      "测试成功完成\n",
      "\n",
      "==================================================\n",
      "\n"
     ]
    }
   ],
   "execution_count": 434
  },
  {
   "metadata": {},
   "cell_type": "markdown",
   "source": "## UI",
   "id": "d6ff34857122db9e"
  },
  {
   "metadata": {},
   "cell_type": "code",
   "outputs": [],
   "execution_count": null,
   "source": "",
   "id": "45a9b66f375e6905"
  }
 ],
 "metadata": {
  "kernelspec": {
   "display_name": "Python 3",
   "language": "python",
   "name": "python3"
  },
  "language_info": {
   "codemirror_mode": {
    "name": "ipython",
    "version": 2
   },
   "file_extension": ".py",
   "mimetype": "text/x-python",
   "name": "python",
   "nbconvert_exporter": "python",
   "pygments_lexer": "ipython2",
   "version": "2.7.6"
  }
 },
 "nbformat": 4,
 "nbformat_minor": 5
}
